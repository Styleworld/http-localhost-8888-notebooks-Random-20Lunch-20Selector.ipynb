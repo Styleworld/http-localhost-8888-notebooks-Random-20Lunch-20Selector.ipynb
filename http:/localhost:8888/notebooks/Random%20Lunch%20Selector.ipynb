# get the day of the week
# only allow ethnic food on Mondays and Wednesdays
# only allow keto on Fridays 
# allow sandwiches any other day

import time
import datetime
import calendar
import random
day_code = {'Mo' : 0, 'Tu' : 1, "We" : 2, "Th" : 3, "Fr": 4, "Sa": 5, "Su" : 6}
day = day_code

favourite_places = dict()
favourite_places["ethnic"] = ["szechewan szechewan", "villa Medina", "the host", "salad king", "mcdonalds", "Tim Hortons"]
favourite_places["sandwiches"] = ["roast beef", "grilled veggies", "chicken"]
favourite_places["keto"] = ["steak", "fish", "pork chops", "eggs", "cheese", "spinach", "broccoli", "coffee with cream", "coconut oil", "butter", "Cheese! Did I already say cheese?"]

# random.choice(favourite_places["keto"])
current_day = datetime.datetime.today().weekday()
# current_day = 6

place_categories = list(favourite_places.keys())
rdm_cte = random.choice(place_categories)
# print(rdm_cte)
# print(current_day)

# if rdm_cte == "ethnic":
if current_day == 2 or current_day == 0:
    lunch_place_today = random.choice(favourite_places["ethnic"])
    print(lunch_place_today)
elif current_day == 4:
    lunch_place_today = random.choice(favourite_places["keto"])
    print(lunch_place_today)
else:
    lunch_place_today = random.choice(favourite_places["sandwiches"])
    print(lunch_place_today)
